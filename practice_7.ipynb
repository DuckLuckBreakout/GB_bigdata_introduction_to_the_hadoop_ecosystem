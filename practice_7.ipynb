{
 "cells": [
  {
   "cell_type": "code",
   "execution_count": 12,
   "metadata": {},
   "outputs": [],
   "source": [
    "import happybase"
   ]
  },
  {
   "cell_type": "code",
   "execution_count": 13,
   "metadata": {},
   "outputs": [],
   "source": [
    "items = []"
   ]
  },
  {
   "cell_type": "code",
   "execution_count": 14,
   "metadata": {},
   "outputs": [],
   "source": [
    "connection = happybase.Connection(host='89.208.221.132', port=9090, autoconnect=True)\n",
    "table = connection.table('student4_13')\n",
    "for key, data in table.scan():\n",
    "    items.append(data)"
   ]
  },
  {
   "cell_type": "code",
   "execution_count": 25,
   "metadata": {},
   "outputs": [],
   "source": [
    "from ast import literal_eval as le\n",
    "\n",
    "data = []\n",
    "for item in items[:-1]:\n",
    "    try:\n",
    "        tmp_dict = le((item[list(item.keys())[0]].decode()).replace(' u', ' \"')\\\n",
    "                                                           .replace('{u', '{\"')\\\n",
    "                                                           .replace(':', '\":' )\\\n",
    "                                                           .replace(', ','\",')\\\n",
    "                                                           .replace(': ',': \"')\\\n",
    "                                                           .replace('}','\"}')\\\n",
    "                                                           .replace('\"\"','\"'))\n",
    "        data.append(tmp_dict)\n",
    "    except:\n",
    "        pass"
   ]
  },
  {
   "cell_type": "code",
   "execution_count": 26,
   "metadata": {},
   "outputs": [],
   "source": [
    "import pandas"
   ]
  },
  {
   "cell_type": "code",
   "execution_count": 27,
   "metadata": {},
   "outputs": [],
   "source": [
    "df = pandas.DataFrame(data)"
   ]
  },
  {
   "cell_type": "code",
   "execution_count": 31,
   "metadata": {},
   "outputs": [],
   "source": [
    "df['max'] = pandas.to_numeric(df['max'])\n",
    "df['price'] = pandas.to_numeric(df['price'])\n",
    "df['rate'] = pandas.to_numeric(df['rate'])\n",
    "df['have'] = pandas.to_numeric(df['have'])"
   ]
  },
  {
   "cell_type": "code",
   "execution_count": 32,
   "metadata": {},
   "outputs": [
    {
     "data": {
      "text/html": [
       "<div>\n",
       "<style scoped>\n",
       "    .dataframe tbody tr th:only-of-type {\n",
       "        vertical-align: middle;\n",
       "    }\n",
       "\n",
       "    .dataframe tbody tr th {\n",
       "        vertical-align: top;\n",
       "    }\n",
       "\n",
       "    .dataframe thead th {\n",
       "        text-align: right;\n",
       "    }\n",
       "</style>\n",
       "<table border=\"1\" class=\"dataframe\">\n",
       "  <thead>\n",
       "    <tr style=\"text-align: right;\">\n",
       "      <th></th>\n",
       "      <th>max</th>\n",
       "      <th>price</th>\n",
       "      <th>rate</th>\n",
       "      <th>name</th>\n",
       "      <th>have</th>\n",
       "    </tr>\n",
       "  </thead>\n",
       "  <tbody>\n",
       "    <tr>\n",
       "      <td>0</td>\n",
       "      <td>19</td>\n",
       "      <td>51</td>\n",
       "      <td>91</td>\n",
       "      <td>Troll Daddy Chest Plate</td>\n",
       "      <td>15</td>\n",
       "    </tr>\n",
       "    <tr>\n",
       "      <td>1</td>\n",
       "      <td>30</td>\n",
       "      <td>6</td>\n",
       "      <td>90</td>\n",
       "      <td>Green Hoodie</td>\n",
       "      <td>0</td>\n",
       "    </tr>\n",
       "    <tr>\n",
       "      <td>2</td>\n",
       "      <td>2</td>\n",
       "      <td>135</td>\n",
       "      <td>86</td>\n",
       "      <td>Mossy Fossil</td>\n",
       "      <td>0</td>\n",
       "    </tr>\n",
       "    <tr>\n",
       "      <td>3</td>\n",
       "      <td>3</td>\n",
       "      <td>144</td>\n",
       "      <td>87</td>\n",
       "      <td>Revolution Jeans</td>\n",
       "      <td>0</td>\n",
       "    </tr>\n",
       "    <tr>\n",
       "      <td>4</td>\n",
       "      <td>13</td>\n",
       "      <td>212</td>\n",
       "      <td>97</td>\n",
       "      <td>Candy Launcher</td>\n",
       "      <td>0</td>\n",
       "    </tr>\n",
       "    <tr>\n",
       "      <td>...</td>\n",
       "      <td>...</td>\n",
       "      <td>...</td>\n",
       "      <td>...</td>\n",
       "      <td>...</td>\n",
       "      <td>...</td>\n",
       "    </tr>\n",
       "    <tr>\n",
       "      <td>1760</td>\n",
       "      <td>30</td>\n",
       "      <td>192</td>\n",
       "      <td>87</td>\n",
       "      <td>Master's Furnace</td>\n",
       "      <td>0</td>\n",
       "    </tr>\n",
       "    <tr>\n",
       "      <td>1761</td>\n",
       "      <td>4</td>\n",
       "      <td>148</td>\n",
       "      <td>89</td>\n",
       "      <td>Bandito SAR</td>\n",
       "      <td>0</td>\n",
       "    </tr>\n",
       "    <tr>\n",
       "      <td>1762</td>\n",
       "      <td>3</td>\n",
       "      <td>296</td>\n",
       "      <td>90</td>\n",
       "      <td>Oil Rig Storage Box</td>\n",
       "      <td>0</td>\n",
       "    </tr>\n",
       "    <tr>\n",
       "      <td>1763</td>\n",
       "      <td>3</td>\n",
       "      <td>408</td>\n",
       "      <td>95</td>\n",
       "      <td>Emerald Revolver</td>\n",
       "      <td>0</td>\n",
       "    </tr>\n",
       "    <tr>\n",
       "      <td>1764</td>\n",
       "      <td>9</td>\n",
       "      <td>169</td>\n",
       "      <td>90</td>\n",
       "      <td>Lighthouse DBS</td>\n",
       "      <td>0</td>\n",
       "    </tr>\n",
       "  </tbody>\n",
       "</table>\n",
       "<p>1765 rows × 5 columns</p>\n",
       "</div>"
      ],
      "text/plain": [
       "      max  price  rate                     name  have\n",
       "0      19     51    91  Troll Daddy Chest Plate    15\n",
       "1      30      6    90             Green Hoodie     0\n",
       "2       2    135    86             Mossy Fossil     0\n",
       "3       3    144    87         Revolution Jeans     0\n",
       "4      13    212    97           Candy Launcher     0\n",
       "...   ...    ...   ...                      ...   ...\n",
       "1760   30    192    87         Master's Furnace     0\n",
       "1761    4    148    89              Bandito SAR     0\n",
       "1762    3    296    90      Oil Rig Storage Box     0\n",
       "1763    3    408    95         Emerald Revolver     0\n",
       "1764    9    169    90           Lighthouse DBS     0\n",
       "\n",
       "[1765 rows x 5 columns]"
      ]
     },
     "execution_count": 32,
     "metadata": {},
     "output_type": "execute_result"
    }
   ],
   "source": [
    "df"
   ]
  },
  {
   "cell_type": "code",
   "execution_count": 37,
   "metadata": {},
   "outputs": [
    {
     "data": {
      "image/png": "[encoded data removed]",
      "text/plain": [
       "<Figure size 432x288 with 1 Axes>"
      ]
     },
     "metadata": {
      "needs_background": "light"
     },
     "output_type": "display_data"
    }
   ],
   "source": [
    "h = df['max'].hist()\n",
    "fig = h.get_figure()"
   ]
  },
  {
   "cell_type": "code",
   "execution_count": 39,
   "metadata": {},
   "outputs": [
    {
     "data": {
      "image/png": "[encoded data removed]",
      "text/plain": [
       "<Figure size 432x288 with 1 Axes>"
      ]
     },
     "metadata": {
      "needs_background": "light"
     },
     "output_type": "display_data"
    }
   ],
   "source": [
    "h = df['rate'].hist()\n",
    "fig = h.get_figure()"
   ]
  },
  {
   "cell_type": "code",
   "execution_count": null,
   "metadata": {},
   "outputs": [],
   "source": []
  }
 ],
 "metadata": {
  "kernelspec": {
   "display_name": "Python 3",
   "language": "python",
   "name": "python3"
  },
  "language_info": {
   "codemirror_mode": {
    "name": "ipython",
    "version": 3
   },
   "file_extension": ".py",
   "mimetype": "text/x-python",
   "name": "python",
   "nbconvert_exporter": "python",
   "pygments_lexer": "ipython3",
   "version": "3.7.4"
  }
 },
 "nbformat": 4,
 "nbformat_minor": 2
}
